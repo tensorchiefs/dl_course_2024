{
 "cells": [
  {
   "cell_type": "markdown",
   "metadata": {
    "colab_type": "text",
    "id": "4K8Ug6ICkRtQ"
   },
   "source": [
    "# A simple CNN for the edge lover task\n",
    "\n",
    "In this notebook you train a very simple CNN with only 1 kernel to distinguish between images containing vertical and images containing horizontal stripes. To check what pattern is recognized by the learned kernel you will visualize the weights of the kernel as an image. You will see that the CNN learns a useful kernel (either a vertical or horiziontal bar). You can experiment with the code to check the influence of the kernel size, the activation function and the pooling method on the result.  \n",
    "\n",
    "\n",
    "**Dataset:** You work with an artficially generatet dataset of greyscale images (50x50 pixel) with 10 vertical or horizontal bars. We want to classify them into whether an art lover, who only loves vertical strips, will like the image (y = 0) or not like the image (y = 1).  \n",
    "\n",
    "The idea of the notebook is that you try to understand the provided code by running it, checking the output and playing with it by slightly changing the code and rerunning it.  \n",
    "\n",
    "**Content:**\n",
    "* definig and generating the dataset X_train and X_val\n",
    "* visualize samples of the generated images\n",
    "* use keras to train a CNN with only one kernel (5x5 pixel)\n",
    "* visualize the weights of the leaned kernel and interpret if it is useful\n",
    "* repeat the last two steps to check if the learned kernel is always the same\n",
    "\n"
   ]
  },
  {
   "cell_type": "markdown",
   "metadata": {
    "colab_type": "text",
    "id": "eiB8bJNYn8oP"
   },
   "source": [
    "### Imports\n",
    "\n",
    "In the next cell, we load all the required libraries."
   ]
  },
  {
   "cell_type": "code",
   "execution_count": 1,
   "metadata": {
    "colab": {},
    "colab_type": "code",
    "id": "2PDLAWRQ7iUB"
   },
   "outputs": [],
   "source": [
    "# load required libraries:\n",
    "import numpy as np\n",
    "import matplotlib.pyplot as plt\n",
    "%matplotlib inline\n",
    "plt.style.use('default')\n",
    "\n",
    "import tensorflow.keras \n",
    "from tensorflow.keras.models import Sequential\n",
    "from tensorflow.keras.layers import Dense, Convolution2D, MaxPooling2D, Flatten , Activation\n",
    "from tensorflow.keras.utils import to_categorical "
   ]
  },
  {
   "cell_type": "markdown",
   "metadata": {
    "colab_type": "text",
    "id": "Oq0FNqcBpj23"
   },
   "source": [
    "### Defining functions to generate images \n",
    "\n",
    "Here we define the function to genere images with vertical and horizontal bars, the arguments of the functions are the size of the image and the number of bars you want to have. The bars are at random positions in the image with a random length. The image is black and white, meaning we have only two values for the pixels, 0 for black and 255 for white."
   ]
  },
  {
   "cell_type": "code",
   "execution_count": 2,
   "metadata": {
    "colab": {},
    "colab_type": "code",
    "id": "nqVBlR8yAO9c"
   },
   "outputs": [],
   "source": [
    "#define function to generate image with shape (size, size, 1) with stripes\n",
    "def generate_image_with_bars(size, bar_nr, vertical = True):\n",
    "    img = np.zeros((size,size,1), dtype=\"uint8\")\n",
    "    for i in range(0,bar_nr):\n",
    "        x,y = np.random.randint(0,size,2)\n",
    "        l  = int(np.random.randint(y,size,1))\n",
    "        if (vertical):\n",
    "            img[y:l,x,0]=255\n",
    "        else:\n",
    "            img[x,y:l,0]=255\n",
    "    return img  "
   ]
  },
  {
   "cell_type": "markdown",
   "metadata": {
    "colab_type": "text",
    "id": "bUmdGzQLdqzB"
   },
   "source": [
    "Let's have a look at the generated images. We choose a size of 50x50 pixels and set the number of bars in the image to 10. "
   ]
  },
  {
   "cell_type": "code",
   "execution_count": 3,
   "metadata": {
    "colab": {
     "base_uri": "https://localhost:8080/",
     "height": 363
    },
    "colab_type": "code",
    "id": "EccLz0FlXGuU",
    "outputId": "0514b883-36de-4df4-a6af-fb8b3ed47759"
   },
   "outputs": [
    {
     "data": {
      "image/png": "[encoded data removed]",
      "text/plain": [
       "<Figure size 800x800 with 2 Axes>"
      ]
     },
     "metadata": {},
     "output_type": "display_data"
    }
   ],
   "source": [
    "# have a look on two generated images\n",
    "plt.figure(figsize=(8,8))\n",
    "plt.subplot(1,2,1)\n",
    "img=generate_image_with_bars(50,10, vertical=True)\n",
    "plt.imshow(img[:,:,0],cmap='gray')\n",
    "plt.subplot(1,2,2)\n",
    "img=generate_image_with_bars(50,10, vertical=False)\n",
    "plt.imshow(img[:,:,0],cmap='gray')\n",
    "plt.show()"
   ]
  },
  {
   "cell_type": "markdown",
   "metadata": {
    "colab_type": "text",
    "id": "Y8gSwmyaevTk"
   },
   "source": [
    "### Make a train and validation dataset of images with vertical and horizontal images\n",
    "Now, let's make a train dataset *X_train* with 1000 images (500 images with vertical and 500 images with horizontal bars). We normalize the images values to be between 0 and 1 by dividing all values with 255. We create a secont dataste *X_val* with exactly the same properties to validate the training of the CNN."
   ]
  },
  {
   "cell_type": "code",
   "execution_count": 4,
   "metadata": {
    "colab": {
     "base_uri": "https://localhost:8080/",
     "height": 52
    },
    "colab_type": "code",
    "id": "63omuptEILKu",
    "outputId": "117892ab-5c52-4063-9e55-d38b3182d1b9"
   },
   "outputs": [],
   "source": [
    "pixel=50  # define height and width of images\n",
    "num_images_train = 1000 #Number of training examples (divisible by 2) \n",
    "num_images_val = 1000 #Number of training examples (divisible by 2) \n",
    "\n",
    "# generate training data with vertical edges\n",
    "X_train =np.zeros((num_images_train,pixel,pixel,1))\n",
    "for i in range(0, num_images_train//2):\n",
    "    X_train[i]=generate_image_with_bars(pixel,10)\n",
    "# ... with horizontal\n",
    "for i in range(num_images_train//2, num_images_train):\n",
    "    X_train[i]=generate_image_with_bars(pixel,10, vertical=False)\n",
    "\n",
    "# generate validation data with vertical edges\n",
    "X_val =np.zeros((num_images_train,pixel,pixel,1))\n",
    "for i in range(0, num_images_train//2): \n",
    "    X_val[i]=generate_image_with_bars(pixel,10)\n",
    "# ... with horizontal\n",
    "for i in range(num_images_train//2, num_images_train):\n",
    "    X_val[i]=generate_image_with_bars(pixel,10, vertical=False)"
   ]
  },
  {
   "cell_type": "code",
   "execution_count": 5,
   "metadata": {
    "colab": {
     "base_uri": "https://localhost:8080/",
     "height": 52
    },
    "colab_type": "code",
    "id": "63omuptEILKu",
    "outputId": "117892ab-5c52-4063-9e55-d38b3182d1b9"
   },
   "outputs": [
    {
     "name": "stdout",
     "output_type": "stream",
     "text": [
      "(1000, 50, 50, 1)\n",
      "(1000, 50, 50, 1)\n"
     ]
    }
   ],
   "source": [
    "# normalize the data to be between 0 and 1\n",
    "X_train=X_train/255\n",
    "X_val=X_val/255\n",
    "\n",
    "print(X_train.shape)\n",
    "print(X_val.shape)"
   ]
  },
  {
   "cell_type": "markdown",
   "metadata": {
    "colab_type": "text",
    "id": "ajNnUoYyi7IQ"
   },
   "source": [
    "Here we make the labels for the art lover, 0 means he likes the image (vertical bars) and 1 means that he doesn't like it (horizontal stripes). We one hot encode the labels because we want to use two outputs in our network."
   ]
  },
  {
   "cell_type": "code",
   "execution_count": 6,
   "metadata": {
    "colab": {},
    "colab_type": "code",
    "id": "41-L5hM8S_ZP"
   },
   "outputs": [],
   "source": [
    "# create class labels\n",
    "y = np.array([[0],[1]])\n",
    "Y_train = np.repeat(y, num_images_train //2)\n",
    "Y_val = np.repeat(y, num_images_train //2)\n",
    "\n",
    "# one-hot-encoding\n",
    "Y_train = to_categorical(Y_train,2)\n",
    "Y_val = to_categorical(Y_val,2)"
   ]
  },
  {
   "cell_type": "markdown",
   "metadata": {
    "colab_type": "text",
    "id": "uZpr0h-VvatF"
   },
   "source": [
    "## Defining the CNN \n",
    "\n",
    "Here we define the CNN: \n",
    "\n",
    "- we use only one kernel with a size of 5x5 pixels  \n",
    "- then we apply a linar activation function  \n",
    "- the maxpooling layer takes the maximum of the whole activation map to predict the probability (output layer with softmax) if the art lover will like the image\n",
    "\n",
    "As loss we use the categorical_crossentropy and we train the model with a batchsize of 64 images per update.\n"
   ]
  },
  {
   "cell_type": "code",
   "execution_count": 7,
   "metadata": {
    "colab": {},
    "colab_type": "code",
    "id": "1Dfg1h2rUifd"
   },
   "outputs": [],
   "source": [
    "model = Sequential()\n",
    "\n",
    "model.add(Convolution2D(1,(5,5),padding='same',input_shape=(pixel,pixel,1)))\n",
    "model.add(Activation('linear'))\n",
    "\n",
    "# take the max over all values in the activation map\n",
    "model.add(MaxPooling2D(pool_size=(pixel,pixel)))\n",
    "model.add(Flatten()) \n",
    "model.add(Dense(2))\n",
    "model.add(Activation('softmax'))\n",
    "\n",
    "# compile model and initialize weights\n",
    "model.compile(loss='categorical_crossentropy',\n",
    "              optimizer='adam',\n",
    "              metrics=['accuracy'])\n"
   ]
  },
  {
   "cell_type": "code",
   "execution_count": 8,
   "metadata": {
    "colab": {
     "base_uri": "https://localhost:8080/",
     "height": 372
    },
    "colab_type": "code",
    "id": "r6eqV0TRU0_n",
    "outputId": "57a410b6-b7b2-4626-b1cf-e5239a3f1ece"
   },
   "outputs": [
    {
     "name": "stdout",
     "output_type": "stream",
     "text": [
      "Model: \"sequential\"\n",
      "_________________________________________________________________\n",
      "Layer (type)                 Output Shape              Param #   \n",
      "=================================================================\n",
      "conv2d (Conv2D)              (None, 50, 50, 1)         26        \n",
      "_________________________________________________________________\n",
      "activation (Activation)      (None, 50, 50, 1)         0         \n",
      "_________________________________________________________________\n",
      "max_pooling2d (MaxPooling2D) (None, 1, 1, 1)           0         \n",
      "_________________________________________________________________\n",
      "flatten (Flatten)            (None, 1)                 0         \n",
      "_________________________________________________________________\n",
      "dense (Dense)                (None, 2)                 4         \n",
      "_________________________________________________________________\n",
      "activation_1 (Activation)    (None, 2)                 0         \n",
      "=================================================================\n",
      "Total params: 30\n",
      "Trainable params: 30\n",
      "Non-trainable params: 0\n",
      "_________________________________________________________________\n"
     ]
    }
   ],
   "source": [
    "# let's summarize the CNN architectures along with the number of model weights\n",
    "model.summary()\n"
   ]
  },
  {
   "cell_type": "code",
   "execution_count": 9,
   "metadata": {
    "colab": {
     "base_uri": "https://localhost:8080/",
     "height": 1000
    },
    "colab_type": "code",
    "id": "Sc-BYd8kVCx0",
    "outputId": "f2256b2a-876c-400e-e4e0-171c11776124",
    "scrolled": false
   },
   "outputs": [
    {
     "name": "stdout",
     "output_type": "stream",
     "text": [
      "Epoch 1/40\n",
      "16/16 [==============================] - 1s 57ms/step - loss: 0.9170 - accuracy: 0.5000 - val_loss: 0.8516 - val_accuracy: 0.5000\n",
      "Epoch 2/40\n",
      "16/16 [==============================] - 1s 45ms/step - loss: 0.8157 - accuracy: 0.5000 - val_loss: 0.7617 - val_accuracy: 0.5000\n",
      "Epoch 3/40\n",
      "16/16 [==============================] - 1s 46ms/step - loss: 0.7327 - accuracy: 0.5000 - val_loss: 0.6917 - val_accuracy: 0.5000\n",
      "Epoch 4/40\n",
      "16/16 [==============================] - 1s 46ms/step - loss: 0.6684 - accuracy: 0.5000 - val_loss: 0.6374 - val_accuracy: 0.5000\n",
      "Epoch 5/40\n",
      "16/16 [==============================] - 1s 46ms/step - loss: 0.6177 - accuracy: 0.5000 - val_loss: 0.5938 - val_accuracy: 0.5000\n",
      "Epoch 6/40\n",
      "16/16 [==============================] - 1s 46ms/step - loss: 0.5781 - accuracy: 0.5000 - val_loss: 0.5613 - val_accuracy: 0.5000\n",
      "Epoch 7/40\n",
      "16/16 [==============================] - 1s 51ms/step - loss: 0.5497 - accuracy: 0.5000 - val_loss: 0.5384 - val_accuracy: 0.5000\n",
      "Epoch 8/40\n",
      "16/16 [==============================] - 1s 49ms/step - loss: 0.5289 - accuracy: 0.5000 - val_loss: 0.5197 - val_accuracy: 0.5000\n",
      "Epoch 9/40\n",
      "16/16 [==============================] - 1s 56ms/step - loss: 0.5119 - accuracy: 0.5000 - val_loss: 0.5042 - val_accuracy: 0.5000\n",
      "Epoch 10/40\n",
      "16/16 [==============================] - 1s 52ms/step - loss: 0.4971 - accuracy: 0.5000 - val_loss: 0.4903 - val_accuracy: 0.5000\n",
      "Epoch 11/40\n",
      "16/16 [==============================] - 1s 50ms/step - loss: 0.4832 - accuracy: 0.5110 - val_loss: 0.4771 - val_accuracy: 0.5760\n",
      "Epoch 12/40\n",
      "16/16 [==============================] - 1s 49ms/step - loss: 0.4701 - accuracy: 0.5850 - val_loss: 0.4641 - val_accuracy: 0.6020\n",
      "Epoch 13/40\n",
      "16/16 [==============================] - 1s 46ms/step - loss: 0.4574 - accuracy: 0.6990 - val_loss: 0.4514 - val_accuracy: 0.8240\n",
      "Epoch 14/40\n",
      "16/16 [==============================] - 1s 46ms/step - loss: 0.4448 - accuracy: 0.8320 - val_loss: 0.4392 - val_accuracy: 0.8360\n",
      "Epoch 15/40\n",
      "16/16 [==============================] - 1s 45ms/step - loss: 0.4327 - accuracy: 0.8620 - val_loss: 0.4272 - val_accuracy: 0.8860\n",
      "Epoch 16/40\n",
      "16/16 [==============================] - 1s 45ms/step - loss: 0.4210 - accuracy: 0.8910 - val_loss: 0.4153 - val_accuracy: 0.8970\n",
      "Epoch 17/40\n",
      "16/16 [==============================] - 1s 46ms/step - loss: 0.4092 - accuracy: 0.9120 - val_loss: 0.4036 - val_accuracy: 0.9060\n",
      "Epoch 18/40\n",
      "16/16 [==============================] - 1s 46ms/step - loss: 0.3976 - accuracy: 0.9250 - val_loss: 0.3919 - val_accuracy: 0.9400\n",
      "Epoch 19/40\n",
      "16/16 [==============================] - 1s 46ms/step - loss: 0.3863 - accuracy: 0.9640 - val_loss: 0.3806 - val_accuracy: 0.9660\n",
      "Epoch 20/40\n",
      "16/16 [==============================] - 1s 46ms/step - loss: 0.3751 - accuracy: 0.9670 - val_loss: 0.3696 - val_accuracy: 0.9790\n",
      "Epoch 21/40\n",
      "16/16 [==============================] - 1s 46ms/step - loss: 0.3643 - accuracy: 0.9820 - val_loss: 0.3589 - val_accuracy: 0.9860\n",
      "Epoch 22/40\n",
      "16/16 [==============================] - 1s 47ms/step - loss: 0.3538 - accuracy: 0.9830 - val_loss: 0.3484 - val_accuracy: 0.9860\n",
      "Epoch 23/40\n",
      "16/16 [==============================] - 1s 54ms/step - loss: 0.3435 - accuracy: 0.9880 - val_loss: 0.3380 - val_accuracy: 0.9900\n",
      "Epoch 24/40\n",
      "16/16 [==============================] - 1s 52ms/step - loss: 0.3332 - accuracy: 0.9890 - val_loss: 0.3279 - val_accuracy: 0.9900\n",
      "Epoch 25/40\n",
      "16/16 [==============================] - 1s 53ms/step - loss: 0.3232 - accuracy: 0.9920 - val_loss: 0.3178 - val_accuracy: 0.9910\n",
      "Epoch 26/40\n",
      "16/16 [==============================] - 1s 49ms/step - loss: 0.3132 - accuracy: 0.9920 - val_loss: 0.3079 - val_accuracy: 0.9910\n",
      "Epoch 27/40\n",
      "16/16 [==============================] - 1s 46ms/step - loss: 0.3033 - accuracy: 0.9960 - val_loss: 0.2978 - val_accuracy: 0.9980\n",
      "Epoch 28/40\n",
      "16/16 [==============================] - 1s 45ms/step - loss: 0.2934 - accuracy: 0.9980 - val_loss: 0.2882 - val_accuracy: 0.9980\n",
      "Epoch 29/40\n",
      "16/16 [==============================] - 1s 46ms/step - loss: 0.2839 - accuracy: 0.9990 - val_loss: 0.2787 - val_accuracy: 0.9980\n",
      "Epoch 30/40\n",
      "16/16 [==============================] - 1s 45ms/step - loss: 0.2746 - accuracy: 0.9990 - val_loss: 0.2694 - val_accuracy: 0.9980\n",
      "Epoch 31/40\n",
      "16/16 [==============================] - 1s 46ms/step - loss: 0.2655 - accuracy: 0.9990 - val_loss: 0.2604 - val_accuracy: 0.9990\n",
      "Epoch 32/40\n",
      "16/16 [==============================] - 1s 46ms/step - loss: 0.2567 - accuracy: 0.9990 - val_loss: 0.2517 - val_accuracy: 0.9990\n",
      "Epoch 33/40\n",
      "16/16 [==============================] - 1s 47ms/step - loss: 0.2480 - accuracy: 0.9990 - val_loss: 0.2430 - val_accuracy: 0.9990\n",
      "Epoch 34/40\n",
      "16/16 [==============================] - 1s 51ms/step - loss: 0.2395 - accuracy: 0.9990 - val_loss: 0.2347 - val_accuracy: 0.9990\n",
      "Epoch 35/40\n",
      "16/16 [==============================] - 1s 47ms/step - loss: 0.2312 - accuracy: 0.9990 - val_loss: 0.2265 - val_accuracy: 0.9990\n",
      "Epoch 36/40\n",
      "16/16 [==============================] - 1s 46ms/step - loss: 0.2232 - accuracy: 0.9990 - val_loss: 0.2185 - val_accuracy: 1.0000\n",
      "Epoch 37/40\n",
      "16/16 [==============================] - 1s 48ms/step - loss: 0.2153 - accuracy: 0.9990 - val_loss: 0.2107 - val_accuracy: 1.0000\n",
      "Epoch 38/40\n",
      "16/16 [==============================] - 1s 45ms/step - loss: 0.2077 - accuracy: 0.9990 - val_loss: 0.2032 - val_accuracy: 1.0000\n",
      "Epoch 39/40\n",
      "16/16 [==============================] - 1s 45ms/step - loss: 0.2004 - accuracy: 1.0000 - val_loss: 0.1958 - val_accuracy: 1.0000\n",
      "Epoch 40/40\n",
      "16/16 [==============================] - 1s 46ms/step - loss: 0.1931 - accuracy: 1.0000 - val_loss: 0.1888 - val_accuracy: 1.0000\n"
     ]
    }
   ],
   "source": [
    "# train the model\n",
    "history=model.fit(X_train, Y_train,\n",
    "                  validation_data=(X_val,Y_val),\n",
    "                  batch_size=64, \n",
    "                  epochs=40,\n",
    "                  verbose=1) "
   ]
  },
  {
   "cell_type": "code",
   "execution_count": 10,
   "metadata": {
    "colab": {
     "base_uri": "https://localhost:8080/",
     "height": 428
    },
    "colab_type": "code",
    "id": "fK_AAAoiQtlc",
    "outputId": "dc0bd3f4-af0f-486f-ccd1-fcaf0e155506"
   },
   "outputs": [
    {
     "data": {
      "text/plain": [
       "<matplotlib.legend.Legend at 0x1b900b2cf88>"
      ]
     },
     "execution_count": 10,
     "metadata": {},
     "output_type": "execute_result"
    },
    {
     "data": {
      "image/png": "[encoded data removed]",
      "text/plain": [
       "<Figure size 1200x400 with 2 Axes>"
      ]
     },
     "metadata": {},
     "output_type": "display_data"
    }
   ],
   "source": [
    "# plot the development of the accuracy and loss during training\n",
    "plt.figure(figsize=(12,4))\n",
    "plt.subplot(1,2,(1))\n",
    "plt.plot(history.history['accuracy'],linestyle='-.')\n",
    "plt.plot(history.history['val_accuracy'])\n",
    "plt.title('model accuracy')\n",
    "plt.ylabel('accuracy')\n",
    "plt.xlabel('epoch')\n",
    "plt.legend(['train', 'valid'], loc='lower right')\n",
    "plt.subplot(1,2,(2))\n",
    "plt.plot(history.history['loss'],linestyle='-.')\n",
    "plt.plot(history.history['val_loss'])\n",
    "plt.title('model loss')\n",
    "plt.ylabel('loss')\n",
    "plt.xlabel('epoch')\n",
    "plt.legend(['train', 'valid'], loc='upper right')"
   ]
  },
  {
   "cell_type": "markdown",
   "metadata": {
    "colab_type": "text",
    "id": "uOwR3Esbw8eN"
   },
   "source": [
    "### Visualize the learned kernel and experiment with the code\n",
    "\n",
    "You see that the CNN performs very good at this task (100% accuracy). We can check which pattern is recognized by the learned kernel and see if you think that this is helpful to distinguish between images with horizontal and vertical edges. \n"
   ]
  },
  {
   "cell_type": "code",
   "execution_count": 11,
   "metadata": {
    "colab": {
     "base_uri": "https://localhost:8080/",
     "height": 448
    },
    "colab_type": "code",
    "id": "pl1yuAddVRnE",
    "outputId": "deb5a73c-b238-4c4b-840f-885984dd278b"
   },
   "outputs": [
    {
     "name": "stdout",
     "output_type": "stream",
     "text": [
      "(5, 5, 1, 1)\n"
     ]
    },
    {
     "data": {
      "text/plain": [
       "<matplotlib.image.AxesImage at 0x1b900baab08>"
      ]
     },
     "execution_count": 11,
     "metadata": {},
     "output_type": "execute_result"
    },
    {
     "data": {
      "image/png": "[encoded data removed]",
      "text/plain": [
       "<Figure size 640x480 with 1 Axes>"
      ]
     },
     "metadata": {},
     "output_type": "display_data"
    }
   ],
   "source": [
    "# get the leared weights and display them as image\n",
    "conv_filter=model.get_weights()[0]\n",
    "print(conv_filter.shape)\n",
    "conv_filter=np.squeeze(conv_filter, axis=2)\n",
    "plt.imshow(conv_filter[:,:,0],\"gray\")"
   ]
  },
  {
   "cell_type": "markdown",
   "metadata": {
    "colab_type": "text",
    "id": "U4gnnlAPp_Q2"
   },
   "source": [
    "### Repeat the training and exerpiment with the kernelsize and activation function.\n",
    "\n",
    "**Exercise**: \n",
    "- Repeat the compiling and training for several times and check if the CNN always learns the same kernel.  \n",
    "- You can experiment with the code and check what happens if you use another kernel size, activation function (relu instead of linear ) or pooling method AveragePooling instead of MaxPooling.  Try to make a prediction on the performance before doing the experiment.\n",
    "\n",
    "\n"
   ]
  },
  {
   "cell_type": "code",
   "execution_count": null,
   "metadata": {
    "colab": {},
    "colab_type": "code",
    "id": "fRlCUwpVoy69"
   },
   "outputs": [],
   "source": []
  }
 ],
 "metadata": {
  "accelerator": "GPU",
  "colab": {
   "collapsed_sections": [],
   "name": "05_cnn_edge_lover_sol.ipynb",
   "provenance": []
  },
  "kernelspec": {
   "display_name": "Python 3 (ipykernel)",
   "language": "python",
   "name": "python3"
  },
  "language_info": {
   "codemirror_mode": {
    "name": "ipython",
    "version": 3
   },
   "file_extension": ".py",
   "mimetype": "text/x-python",
   "name": "python",
   "nbconvert_exporter": "python",
   "pygments_lexer": "ipython3",
   "version": "3.7.11"
  }
 },
 "nbformat": 4,
 "nbformat_minor": 1
}
