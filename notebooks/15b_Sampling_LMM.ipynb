{
  "cells": [
    {
      "cell_type": "markdown",
      "metadata": {
        "id": "UQ4kwKyEcSc4"
      },
      "source": [
        "## Sampling from a langue model\n",
        "\n",
        "The following NB demonstrates the sampling from a LLM. We use GTP-2 as an example, which we obtain from Hugging Face."
      ]
    },
    {
      "cell_type": "code",
      "execution_count": 2,
      "metadata": {
        "id": "pEt8-wg4cSc5",
        "outputId": "7265551b-383a-458c-e74d-b949d4b872fc",
        "colab": {
          "base_uri": "https://localhost:8080/"
        }
      },
      "outputs": [
        {
          "output_type": "stream",
          "name": "stdout",
          "text": [
            "torch : 2.1.0+cu121\n"
          ]
        }
      ],
      "source": [
        "# We use torch here, but don't worry\n",
        "import torch\n",
        "print('torch :', torch.__version__)"
      ]
    },
    {
      "cell_type": "code",
      "execution_count": 3,
      "metadata": {
        "id": "BGV4Q9oEcSc6",
        "outputId": "7e29e26b-d4b0-44ce-e57f-ad0cd746847e",
        "colab": {
          "base_uri": "https://localhost:8080/"
        }
      },
      "outputs": [
        {
          "output_type": "stream",
          "name": "stdout",
          "text": [
            "Requirement already satisfied: transformers in /usr/local/lib/python3.10/dist-packages (4.38.2)\n",
            "Requirement already satisfied: filelock in /usr/local/lib/python3.10/dist-packages (from transformers) (3.13.1)\n",
            "Requirement already satisfied: huggingface-hub<1.0,>=0.19.3 in /usr/local/lib/python3.10/dist-packages (from transformers) (0.20.3)\n",
            "Requirement already satisfied: numpy>=1.17 in /usr/local/lib/python3.10/dist-packages (from transformers) (1.25.2)\n",
            "Requirement already satisfied: packaging>=20.0 in /usr/local/lib/python3.10/dist-packages (from transformers) (23.2)\n",
            "Requirement already satisfied: pyyaml>=5.1 in /usr/local/lib/python3.10/dist-packages (from transformers) (6.0.1)\n",
            "Requirement already satisfied: regex!=2019.12.17 in /usr/local/lib/python3.10/dist-packages (from transformers) (2023.12.25)\n",
            "Requirement already satisfied: requests in /usr/local/lib/python3.10/dist-packages (from transformers) (2.31.0)\n",
            "Requirement already satisfied: tokenizers<0.19,>=0.14 in /usr/local/lib/python3.10/dist-packages (from transformers) (0.15.2)\n",
            "Requirement already satisfied: safetensors>=0.4.1 in /usr/local/lib/python3.10/dist-packages (from transformers) (0.4.2)\n",
            "Requirement already satisfied: tqdm>=4.27 in /usr/local/lib/python3.10/dist-packages (from transformers) (4.66.2)\n",
            "Requirement already satisfied: fsspec>=2023.5.0 in /usr/local/lib/python3.10/dist-packages (from huggingface-hub<1.0,>=0.19.3->transformers) (2023.6.0)\n",
            "Requirement already satisfied: typing-extensions>=3.7.4.3 in /usr/local/lib/python3.10/dist-packages (from huggingface-hub<1.0,>=0.19.3->transformers) (4.10.0)\n",
            "Requirement already satisfied: charset-normalizer<4,>=2 in /usr/local/lib/python3.10/dist-packages (from requests->transformers) (3.3.2)\n",
            "Requirement already satisfied: idna<4,>=2.5 in /usr/local/lib/python3.10/dist-packages (from requests->transformers) (3.6)\n",
            "Requirement already satisfied: urllib3<3,>=1.21.1 in /usr/local/lib/python3.10/dist-packages (from requests->transformers) (2.0.7)\n",
            "Requirement already satisfied: certifi>=2017.4.17 in /usr/local/lib/python3.10/dist-packages (from requests->transformers) (2024.2.2)\n"
          ]
        }
      ],
      "source": [
        "%pip install transformers #Installing the transformers library from Hugging Face"
      ]
    },
    {
      "cell_type": "markdown",
      "source": [
        "### The tokenizer translates a string into numbers"
      ],
      "metadata": {
        "id": "tV2bKBySerJG"
      }
    },
    {
      "cell_type": "code",
      "execution_count": 7,
      "metadata": {
        "id": "u5TlmsEbcSc6",
        "outputId": "d1113c62-dcb1-40a2-f0ba-90595c6aa5ac",
        "colab": {
          "base_uri": "https://localhost:8080/"
        }
      },
      "outputs": [
        {
          "output_type": "stream",
          "name": "stdout",
          "text": [
            "Hello world becomes [15496, 995]\n"
          ]
        },
        {
          "output_type": "execute_result",
          "data": {
            "text/plain": [
              "[30098, 1428, 360, 9116, 21062]"
            ]
          },
          "metadata": {},
          "execution_count": 7
        }
      ],
      "source": [
        "from transformers import AutoTokenizer, AutoModelForCausalLM\n",
        "\n",
        "# Load pretrained model and tokenizer\n",
        "model_name = \"gpt2\"\n",
        "tokenizer = AutoTokenizer.from_pretrained(model_name)\n",
        "print(\"Hello world becomes\", tokenizer(\"Hello world\")[\"input_ids\"])\n",
        "# TODO Find the tokens for Your name\n",
        "# Scroll down for solutions\n",
        "\n",
        "\n",
        "\n",
        "\n",
        "\n",
        "\n",
        "\n",
        "\n",
        "\n",
        "\n",
        "\n",
        "\n",
        "\n",
        "\n",
        "\n",
        "\n",
        "\n",
        "\n",
        "\n",
        "\n",
        "\n",
        "\n",
        "\n",
        "\n",
        "\n",
        "tokenizer(\"Oliver Dürr\")[\"input_ids\"] #Split into 5 tokens"
      ]
    },
    {
      "cell_type": "markdown",
      "source": [
        "There is a nice representation for tokens, see https://platform.openai.com/tokenizer. Go there and play around, the tokenizer there might be different to the one for GTP-2"
      ],
      "metadata": {
        "id": "n8MB8JhNfP8y"
      }
    },
    {
      "cell_type": "markdown",
      "metadata": {
        "id": "N6nS2Mw6cSc7"
      },
      "source": [
        "Encoding the input sequence."
      ]
    },
    {
      "cell_type": "code",
      "source": [
        "# Encode input context\n",
        "model = AutoModelForCausalLM.from_pretrained(model_name)\n",
        "input_context = \"The weather is really nice today. I'm thinking about going for a\"\n",
        "input_ids = tokenizer.encode(input_context, return_tensors=\"pt\")\n",
        "print(\"input_ids \", input_ids)\n",
        "#tokenizer.decode(input_ids, skip_special_tokens=True) TODO fix"
      ],
      "metadata": {
        "colab": {
          "base_uri": "https://localhost:8080/"
        },
        "id": "XzJfu5uHgX7z",
        "outputId": "565a6371-854d-401f-8a73-f0fc16b1beb5"
      },
      "execution_count": 12,
      "outputs": [
        {
          "output_type": "stream",
          "name": "stdout",
          "text": [
            "input_ids  tensor([[ 464, 6193,  318, 1107, 3621, 1909,   13,  314, 1101, 3612,  546, 1016,\n",
            "          329,  257]])\n"
          ]
        }
      ]
    },
    {
      "cell_type": "markdown",
      "source": [
        "Sampling from the LMM"
      ],
      "metadata": {
        "id": "wI1VcaL0g7nS"
      }
    },
    {
      "cell_type": "code",
      "execution_count": 16,
      "metadata": {
        "id": "Fk8TUYWpcSc7",
        "outputId": "d1832fc9-a8cd-425e-c7cf-f00974b87208",
        "colab": {
          "base_uri": "https://localhost:8080/"
        }
      },
      "outputs": [
        {
          "output_type": "stream",
          "name": "stderr",
          "text": [
            "The attention mask and the pad token id were not set. As a consequence, you may observe unexpected behavior. Please pass your input's `attention_mask` to obtain reliable results.\n",
            "Setting `pad_token_id` to `eos_token_id`:50256 for open-end generation.\n"
          ]
        },
        {
          "output_type": "stream",
          "name": "stdout",
          "text": [
            "The sampled output ids tensor([[  464,  6193,   318,  1107,  3621,  1909,    13,   314,  1101,  3612,\n",
            "           546,  1016,   329,   257,  1057,   319,   262,   938,  1110,    11,\n",
            "           290,   788,  1016,   656,   257,  2151,   284,   766,   661,    13,\n",
            "           383,   691,  1243,   314,   761,   389,   257,  3024, 13209,    11,\n",
            "           290,   257, 35685,    11,   290,  3863,   257,  1178,  9155,  5645]])\n",
            "Translated back to text  run on the last day, and then going into a party to see people. The only things I need are a hot coat, and a sweater, and maybe a few loose ends\n"
          ]
        }
      ],
      "source": [
        "out_ids = model.generate(input_ids, max_length=50, do_sample=True, temperature=1.0)\n",
        "print(\"The sampled output ids\", out_ids)\n",
        "print(\"Translated back to text\", tokenizer.decode(out_ids[0, input_ids.shape[1]:], skip_special_tokens=True))"
      ]
    },
    {
      "cell_type": "markdown",
      "metadata": {
        "id": "B-wGl5g9cSc7"
      },
      "source": [
        "Sampling 30 times from the input sequence."
      ]
    },
    {
      "cell_type": "code",
      "execution_count": null,
      "metadata": {
        "id": "aEt3O-o0cSc7",
        "outputId": "c6130548-d486-45fc-825e-9c27513888b4",
        "colab": {
          "base_uri": "https://localhost:8080/"
        }
      },
      "outputs": [
        {
          "output_type": "stream",
          "name": "stderr",
          "text": [
            "The attention mask and the pad token id were not set. As a consequence, you may observe unexpected behavior. Please pass your input's `attention_mask` to obtain reliable results.\n",
            "Setting `pad_token_id` to `eos_token_id`:50256 for open-end generation.\n"
          ]
        },
        {
          "output_type": "stream",
          "name": "stdout",
          "text": [
            "0\n"
          ]
        },
        {
          "output_type": "stream",
          "name": "stderr",
          "text": [
            "The attention mask and the pad token id were not set. As a consequence, you may observe unexpected behavior. Please pass your input's `attention_mask` to obtain reliable results.\n",
            "Setting `pad_token_id` to `eos_token_id`:50256 for open-end generation.\n"
          ]
        },
        {
          "output_type": "stream",
          "name": "stdout",
          "text": [
            "1\n"
          ]
        },
        {
          "output_type": "stream",
          "name": "stderr",
          "text": [
            "The attention mask and the pad token id were not set. As a consequence, you may observe unexpected behavior. Please pass your input's `attention_mask` to obtain reliable results.\n",
            "Setting `pad_token_id` to `eos_token_id`:50256 for open-end generation.\n"
          ]
        },
        {
          "output_type": "stream",
          "name": "stdout",
          "text": [
            "2\n"
          ]
        },
        {
          "output_type": "stream",
          "name": "stderr",
          "text": [
            "The attention mask and the pad token id were not set. As a consequence, you may observe unexpected behavior. Please pass your input's `attention_mask` to obtain reliable results.\n",
            "Setting `pad_token_id` to `eos_token_id`:50256 for open-end generation.\n"
          ]
        },
        {
          "output_type": "stream",
          "name": "stdout",
          "text": [
            "3\n"
          ]
        },
        {
          "output_type": "stream",
          "name": "stderr",
          "text": [
            "The attention mask and the pad token id were not set. As a consequence, you may observe unexpected behavior. Please pass your input's `attention_mask` to obtain reliable results.\n",
            "Setting `pad_token_id` to `eos_token_id`:50256 for open-end generation.\n"
          ]
        },
        {
          "output_type": "stream",
          "name": "stdout",
          "text": [
            "4\n"
          ]
        },
        {
          "output_type": "stream",
          "name": "stderr",
          "text": [
            "The attention mask and the pad token id were not set. As a consequence, you may observe unexpected behavior. Please pass your input's `attention_mask` to obtain reliable results.\n",
            "Setting `pad_token_id` to `eos_token_id`:50256 for open-end generation.\n"
          ]
        },
        {
          "output_type": "stream",
          "name": "stdout",
          "text": [
            "5\n"
          ]
        },
        {
          "output_type": "stream",
          "name": "stderr",
          "text": [
            "The attention mask and the pad token id were not set. As a consequence, you may observe unexpected behavior. Please pass your input's `attention_mask` to obtain reliable results.\n",
            "Setting `pad_token_id` to `eos_token_id`:50256 for open-end generation.\n"
          ]
        },
        {
          "output_type": "stream",
          "name": "stdout",
          "text": [
            "6\n"
          ]
        },
        {
          "output_type": "stream",
          "name": "stderr",
          "text": [
            "The attention mask and the pad token id were not set. As a consequence, you may observe unexpected behavior. Please pass your input's `attention_mask` to obtain reliable results.\n",
            "Setting `pad_token_id` to `eos_token_id`:50256 for open-end generation.\n"
          ]
        },
        {
          "output_type": "stream",
          "name": "stdout",
          "text": [
            "7\n"
          ]
        },
        {
          "output_type": "stream",
          "name": "stderr",
          "text": [
            "The attention mask and the pad token id were not set. As a consequence, you may observe unexpected behavior. Please pass your input's `attention_mask` to obtain reliable results.\n",
            "Setting `pad_token_id` to `eos_token_id`:50256 for open-end generation.\n"
          ]
        },
        {
          "output_type": "stream",
          "name": "stdout",
          "text": [
            "8\n"
          ]
        },
        {
          "output_type": "stream",
          "name": "stderr",
          "text": [
            "The attention mask and the pad token id were not set. As a consequence, you may observe unexpected behavior. Please pass your input's `attention_mask` to obtain reliable results.\n",
            "Setting `pad_token_id` to `eos_token_id`:50256 for open-end generation.\n"
          ]
        },
        {
          "output_type": "stream",
          "name": "stdout",
          "text": [
            "9\n"
          ]
        },
        {
          "output_type": "stream",
          "name": "stderr",
          "text": [
            "The attention mask and the pad token id were not set. As a consequence, you may observe unexpected behavior. Please pass your input's `attention_mask` to obtain reliable results.\n",
            "Setting `pad_token_id` to `eos_token_id`:50256 for open-end generation.\n"
          ]
        },
        {
          "output_type": "stream",
          "name": "stdout",
          "text": [
            "10\n"
          ]
        },
        {
          "output_type": "stream",
          "name": "stderr",
          "text": [
            "The attention mask and the pad token id were not set. As a consequence, you may observe unexpected behavior. Please pass your input's `attention_mask` to obtain reliable results.\n",
            "Setting `pad_token_id` to `eos_token_id`:50256 for open-end generation.\n"
          ]
        },
        {
          "output_type": "stream",
          "name": "stdout",
          "text": [
            "11\n"
          ]
        },
        {
          "output_type": "stream",
          "name": "stderr",
          "text": [
            "The attention mask and the pad token id were not set. As a consequence, you may observe unexpected behavior. Please pass your input's `attention_mask` to obtain reliable results.\n",
            "Setting `pad_token_id` to `eos_token_id`:50256 for open-end generation.\n"
          ]
        },
        {
          "output_type": "stream",
          "name": "stdout",
          "text": [
            "12\n"
          ]
        },
        {
          "output_type": "stream",
          "name": "stderr",
          "text": [
            "The attention mask and the pad token id were not set. As a consequence, you may observe unexpected behavior. Please pass your input's `attention_mask` to obtain reliable results.\n",
            "Setting `pad_token_id` to `eos_token_id`:50256 for open-end generation.\n"
          ]
        },
        {
          "output_type": "stream",
          "name": "stdout",
          "text": [
            "13\n"
          ]
        },
        {
          "output_type": "stream",
          "name": "stderr",
          "text": [
            "The attention mask and the pad token id were not set. As a consequence, you may observe unexpected behavior. Please pass your input's `attention_mask` to obtain reliable results.\n",
            "Setting `pad_token_id` to `eos_token_id`:50256 for open-end generation.\n"
          ]
        },
        {
          "output_type": "stream",
          "name": "stdout",
          "text": [
            "14\n"
          ]
        },
        {
          "output_type": "stream",
          "name": "stderr",
          "text": [
            "The attention mask and the pad token id were not set. As a consequence, you may observe unexpected behavior. Please pass your input's `attention_mask` to obtain reliable results.\n",
            "Setting `pad_token_id` to `eos_token_id`:50256 for open-end generation.\n"
          ]
        },
        {
          "output_type": "stream",
          "name": "stdout",
          "text": [
            "15\n"
          ]
        },
        {
          "output_type": "stream",
          "name": "stderr",
          "text": [
            "The attention mask and the pad token id were not set. As a consequence, you may observe unexpected behavior. Please pass your input's `attention_mask` to obtain reliable results.\n",
            "Setting `pad_token_id` to `eos_token_id`:50256 for open-end generation.\n"
          ]
        },
        {
          "output_type": "stream",
          "name": "stdout",
          "text": [
            "16\n"
          ]
        },
        {
          "output_type": "stream",
          "name": "stderr",
          "text": [
            "The attention mask and the pad token id were not set. As a consequence, you may observe unexpected behavior. Please pass your input's `attention_mask` to obtain reliable results.\n",
            "Setting `pad_token_id` to `eos_token_id`:50256 for open-end generation.\n"
          ]
        },
        {
          "output_type": "stream",
          "name": "stdout",
          "text": [
            "17\n"
          ]
        },
        {
          "output_type": "stream",
          "name": "stderr",
          "text": [
            "The attention mask and the pad token id were not set. As a consequence, you may observe unexpected behavior. Please pass your input's `attention_mask` to obtain reliable results.\n",
            "Setting `pad_token_id` to `eos_token_id`:50256 for open-end generation.\n"
          ]
        },
        {
          "output_type": "stream",
          "name": "stdout",
          "text": [
            "18\n"
          ]
        },
        {
          "output_type": "stream",
          "name": "stderr",
          "text": [
            "The attention mask and the pad token id were not set. As a consequence, you may observe unexpected behavior. Please pass your input's `attention_mask` to obtain reliable results.\n",
            "Setting `pad_token_id` to `eos_token_id`:50256 for open-end generation.\n"
          ]
        },
        {
          "output_type": "stream",
          "name": "stdout",
          "text": [
            "19\n"
          ]
        },
        {
          "output_type": "stream",
          "name": "stderr",
          "text": [
            "The attention mask and the pad token id were not set. As a consequence, you may observe unexpected behavior. Please pass your input's `attention_mask` to obtain reliable results.\n",
            "Setting `pad_token_id` to `eos_token_id`:50256 for open-end generation.\n"
          ]
        },
        {
          "output_type": "stream",
          "name": "stdout",
          "text": [
            "20\n"
          ]
        },
        {
          "output_type": "stream",
          "name": "stderr",
          "text": [
            "The attention mask and the pad token id were not set. As a consequence, you may observe unexpected behavior. Please pass your input's `attention_mask` to obtain reliable results.\n",
            "Setting `pad_token_id` to `eos_token_id`:50256 for open-end generation.\n"
          ]
        },
        {
          "output_type": "stream",
          "name": "stdout",
          "text": [
            "21\n"
          ]
        },
        {
          "output_type": "stream",
          "name": "stderr",
          "text": [
            "The attention mask and the pad token id were not set. As a consequence, you may observe unexpected behavior. Please pass your input's `attention_mask` to obtain reliable results.\n",
            "Setting `pad_token_id` to `eos_token_id`:50256 for open-end generation.\n"
          ]
        },
        {
          "output_type": "stream",
          "name": "stdout",
          "text": [
            "22\n"
          ]
        },
        {
          "output_type": "stream",
          "name": "stderr",
          "text": [
            "The attention mask and the pad token id were not set. As a consequence, you may observe unexpected behavior. Please pass your input's `attention_mask` to obtain reliable results.\n",
            "Setting `pad_token_id` to `eos_token_id`:50256 for open-end generation.\n"
          ]
        },
        {
          "output_type": "stream",
          "name": "stdout",
          "text": [
            "23\n"
          ]
        },
        {
          "output_type": "stream",
          "name": "stderr",
          "text": [
            "The attention mask and the pad token id were not set. As a consequence, you may observe unexpected behavior. Please pass your input's `attention_mask` to obtain reliable results.\n",
            "Setting `pad_token_id` to `eos_token_id`:50256 for open-end generation.\n"
          ]
        },
        {
          "output_type": "stream",
          "name": "stdout",
          "text": [
            "24\n"
          ]
        },
        {
          "output_type": "stream",
          "name": "stderr",
          "text": [
            "The attention mask and the pad token id were not set. As a consequence, you may observe unexpected behavior. Please pass your input's `attention_mask` to obtain reliable results.\n",
            "Setting `pad_token_id` to `eos_token_id`:50256 for open-end generation.\n"
          ]
        },
        {
          "output_type": "stream",
          "name": "stdout",
          "text": [
            "25\n"
          ]
        },
        {
          "output_type": "stream",
          "name": "stderr",
          "text": [
            "The attention mask and the pad token id were not set. As a consequence, you may observe unexpected behavior. Please pass your input's `attention_mask` to obtain reliable results.\n",
            "Setting `pad_token_id` to `eos_token_id`:50256 for open-end generation.\n"
          ]
        },
        {
          "output_type": "stream",
          "name": "stdout",
          "text": [
            "26\n"
          ]
        },
        {
          "output_type": "stream",
          "name": "stderr",
          "text": [
            "The attention mask and the pad token id were not set. As a consequence, you may observe unexpected behavior. Please pass your input's `attention_mask` to obtain reliable results.\n",
            "Setting `pad_token_id` to `eos_token_id`:50256 for open-end generation.\n"
          ]
        },
        {
          "output_type": "stream",
          "name": "stdout",
          "text": [
            "27\n"
          ]
        },
        {
          "output_type": "stream",
          "name": "stderr",
          "text": [
            "The attention mask and the pad token id were not set. As a consequence, you may observe unexpected behavior. Please pass your input's `attention_mask` to obtain reliable results.\n",
            "Setting `pad_token_id` to `eos_token_id`:50256 for open-end generation.\n"
          ]
        },
        {
          "output_type": "stream",
          "name": "stdout",
          "text": [
            "28\n"
          ]
        },
        {
          "output_type": "stream",
          "name": "stderr",
          "text": [
            "The attention mask and the pad token id were not set. As a consequence, you may observe unexpected behavior. Please pass your input's `attention_mask` to obtain reliable results.\n",
            "Setting `pad_token_id` to `eos_token_id`:50256 for open-end generation.\n"
          ]
        },
        {
          "output_type": "stream",
          "name": "stdout",
          "text": [
            "29\n"
          ]
        }
      ],
      "source": [
        "output_list = []\n",
        "for i in range(30):\n",
        "    print(i)\n",
        "    # Generate next token\n",
        "    output = model.generate(input_ids, max_length=20, do_sample=True, temperature=1.0)\n",
        "    # Decode output\n",
        "    #output_text = tokenizer.decode(output[0], skip_special_tokens=True)\n",
        "    output_text = tokenizer.decode(output[0, input_ids.shape[1]:], skip_special_tokens=True)\n",
        "    output_list.append(output_text + \"...\")"
      ]
    },
    {
      "cell_type": "code",
      "execution_count": null,
      "metadata": {
        "id": "OY2rCr11cSc7",
        "outputId": "1089e0ef-287c-424a-8ee0-e6c1e7ea141d",
        "colab": {
          "base_uri": "https://localhost:8080/"
        }
      },
      "outputs": [
        {
          "output_type": "execute_result",
          "data": {
            "text/plain": [
              "[' walk before or after the event...',\n",
              " ' swim in the Caribbean next week...',\n",
              " ' walk in the woods a few...',\n",
              " ' swim in the winter, just...',\n",
              " ' ski....',\n",
              " ' walk over the mountains with my...',\n",
              " ' walk or a weekend hike....',\n",
              " ' long walk up the hill to...',\n",
              " ' walk in the park at night...',\n",
              " ' swim. When I went swimming...',\n",
              " ' walk around my apartment, and...',\n",
              " ' nice day tomorrow. I will...',\n",
              " ' walk down this river the rest...',\n",
              " ' hike along Piedmont Road...',\n",
              " ' long ride.\"\\n\\nHe...',\n",
              " ' swim at this time. I...',\n",
              " ' little bit of walk. It...',\n",
              " ' run or to watch the NFL...',\n",
              " ' walk a bit or just stopping...',\n",
              " ' ride. Maybe we will have...',\n",
              " ' lunch in the bay next week...',\n",
              " ' run, maybe a walk,...',\n",
              " ' cruise today and seeing how well...',\n",
              " ' swim in October, but I...',\n",
              " ' walk and driving to the airport...',\n",
              " ' night or three with friends and...',\n",
              " ' walk before getting a good night...',\n",
              " ' break today,\" she told ABC...',\n",
              " ' lunch. I would come home...',\n",
              " ' drive to the Lake Michigan,...']"
            ]
          },
          "metadata": {},
          "execution_count": 6
        }
      ],
      "source": [
        "output_list"
      ]
    },
    {
      "cell_type": "markdown",
      "metadata": {
        "id": "q3lR680FcSc7"
      },
      "source": [
        "Get the probabilities for the next token."
      ]
    },
    {
      "cell_type": "code",
      "execution_count": 18,
      "metadata": {
        "id": "iTcM2CpwcSc8",
        "outputId": "ad16fd21-3ec7-467a-a711-41f44a4c3c43",
        "colab": {
          "base_uri": "https://localhost:8080/"
        }
      },
      "outputs": [
        {
          "output_type": "stream",
          "name": "stdout",
          "text": [
            "         token  probability\n",
            "2513      walk     0.169731\n",
            "9422      swim     0.132105\n",
            "1057       run     0.074474\n",
            "18390     hike     0.051884\n",
            "48342      jog     0.040393\n",
            "3708     drive     0.014346\n",
            "890       long     0.014179\n",
            "41360   stroll     0.013317\n",
            "6594      ride     0.011630\n",
            "1110       day     0.009953\n"
          ]
        }
      ],
      "source": [
        "import pandas as pd\n",
        "# Get logits of last hidden state\n",
        "outputs = model(input_ids)\n",
        "next_token_logits = outputs.logits[:, -1, :]\n",
        "\n",
        "# Apply softmax to calculate probabilities\n",
        "probs = torch.nn.functional.softmax(next_token_logits, dim=-1)\n",
        "\n",
        "#Convert probabilities to pandas DataFrame\n",
        "probs = probs.detach().numpy().flatten()\n",
        "tokens = [tokenizer.decode(i) for i in range(len(probs))]\n",
        "\n",
        "probs_df = pd.DataFrame(list(zip(tokens, probs)), columns=['token', 'probability'])\n",
        "\n",
        "# Sort by probability and print the 10 most likely next tokens\n",
        "top_10_tokens = probs_df.sort_values('probability', ascending=False).head(10)\n",
        "print(top_10_tokens)\n",
        "#top_10_tokens.to_csv('top_10_tokens.csv', index=False)\n"
      ]
    },
    {
      "cell_type": "markdown",
      "source": [
        "## You Job: Visualize the output probabilities of the next token"
      ],
      "metadata": {
        "id": "iH-UWJ5Vh3Sj"
      }
    },
    {
      "cell_type": "code",
      "execution_count": 19,
      "metadata": {
        "id": "3MHJnkJLcSc8",
        "outputId": "fa7a2c55-73ba-4b43-8328-6da4656d3ecf",
        "colab": {
          "base_uri": "https://localhost:8080/",
          "height": 472
        }
      },
      "outputs": [
        {
          "output_type": "display_data",
          "data": {
            "text/plain": [
              "<Figure size 640x480 with 1 Axes>"
            ],
            "image/png": "[encoded data removed]"
          },
          "metadata": {}
        }
      ],
      "source": [
        "## Try first then scroll down\n",
        "\n",
        "\n",
        "\n",
        "\n",
        "\n",
        "\n",
        "\n",
        "\n",
        "\n",
        "\n",
        "\n",
        "\n",
        "\n",
        "\n",
        "\n",
        "\n",
        "\n",
        "\n",
        "\n",
        "\n",
        "\n",
        "\n",
        "\n",
        "\n",
        "\n",
        "\n",
        "\n",
        "\n",
        "import matplotlib.pyplot as plt\n",
        "\n",
        "plt.bar(top_10_tokens['token'], top_10_tokens['probability'], color ='maroon')\n",
        "plt.xlabel(\"Token\")\n",
        "plt.ylabel(\"Probability\")\n",
        "plt.title(\"Probability Distribution of Next Token\")\n",
        "plt.show()"
      ]
    },
    {
      "cell_type": "markdown",
      "source": [
        "## Effect on temperatur on scaling"
      ],
      "metadata": {
        "id": "LgXoKYIKiF5z"
      }
    },
    {
      "cell_type": "code",
      "execution_count": 21,
      "metadata": {
        "id": "36InTY9PcSc8",
        "outputId": "ee2a6bed-9786-411b-9554-3e22bb549d36",
        "colab": {
          "base_uri": "https://localhost:8080/",
          "height": 564
        }
      },
      "outputs": [
        {
          "output_type": "display_data",
          "data": {
            "text/plain": [
              "<Figure size 1000x600 with 1 Axes>"
            ],
            "image/png": "[encoded data removed]"
          },
          "metadata": {}
        }
      ],
      "source": [
        "from ipywidgets import interact\n",
        "import numpy as np\n",
        "df = top_10_tokens.copy()\n",
        "# Function to plot\n",
        "def plot_scaled_prob(T):\n",
        "    df['scaled_probability'] = df['probability']**(1/T)\n",
        "    df['scaled_probability'] = df['scaled_probability'] / np.sum(df['scaled_probability'])\n",
        "\n",
        "    plt.figure(figsize=(10,6))\n",
        "    plt.bar(df['token'], df['scaled_probability'], color ='maroon')\n",
        "    plt.xlabel(\"Token\")\n",
        "    plt.ylabel(\"Scaled Probability\")\n",
        "    plt.title(f\"Scaled Probability Distribution of Tokens (T={round(T, 1)})\")\n",
        "    plt.show()\n",
        "\n",
        "plot_scaled_prob(0.1)"
      ]
    },
    {
      "cell_type": "code",
      "execution_count": 22,
      "metadata": {
        "id": "pMEBeB96cSc8",
        "outputId": "dacf6653-b17a-424b-fc81-e8eda6cc0df0",
        "colab": {
          "referenced_widgets": [
            "b7b09e77eed54055ade1167aad579ac9",
            "b6d2406490e349caac387d3cbf0f5bb9",
            "14393a42bcce4436949b91595f8a05bc",
            "86ab424313834bcca784432ce243da9b",
            "bac32bb301fb4fafb375d47d869b2054",
            "8b02d01a1b314d00aaa9ed04a9874b93",
            "d806ce9e1b924253ba3d72eea21c29e2"
          ],
          "base_uri": "https://localhost:8080/",
          "height": 596
        }
      },
      "outputs": [
        {
          "output_type": "display_data",
          "data": {
            "text/plain": [
              "interactive(children=(FloatSlider(value=4.91, description='T', max=10.0, min=0.01), Output()), _dom_classes=('…"
            ],
            "application/vnd.jupyter.widget-view+json": {
              "version_major": 2,
              "version_minor": 0,
              "model_id": "b7b09e77eed54055ade1167aad579ac9"
            }
          },
          "metadata": {}
        }
      ],
      "source": [
        "# Interactive plot\n",
        "interact(plot_scaled_prob, T=(1e-2, 10.0, 0.1));"
      ]
    },
    {
      "cell_type": "markdown",
      "source": [
        "Below just shows how to create a movie."
      ],
      "metadata": {
        "id": "Y7ruiSwNiyPe"
      }
    },
    {
      "cell_type": "code",
      "execution_count": 23,
      "metadata": {
        "id": "KmPZ_fsucSc8"
      },
      "outputs": [],
      "source": [
        "import matplotlib.pyplot as plt\n",
        "import matplotlib.animation as animation\n",
        "import pandas as pd\n",
        "import numpy as np\n",
        "from PIL import Image, ImageSequence\n",
        "# Prepare figure\n",
        "fig, ax = plt.subplots(figsize=(10,6))\n",
        "\n",
        "# Animation update function\n",
        "def update(T):\n",
        "    ax.clear()\n",
        "    df['scaled_probability'] = df['probability']**(1/T)\n",
        "    df['scaled_probability'] = df['scaled_probability'] / np.sum(df['scaled_probability'])\n",
        "    ax.bar(df['token'], df['scaled_probability'], color ='maroon')\n",
        "    ax.set_xlabel(\"Token\")\n",
        "    ax.set_ylabel(\"Scaled Probability\")\n",
        "    ax.set_title(f\"Scaled Probability Distribution of Tokens (T={round(T, 1)})\")\n",
        "\n",
        "# Create animation\n",
        "ani = animation.FuncAnimation(fig, update, frames=np.linspace(0.1, 3.0, 30), repeat=True)\n",
        "\n",
        "# Save animation as GIF\n",
        "ani.save(\"animated_plot.gif\", writer='imagemagick')"
      ]
    },
    {
      "cell_type": "code",
      "execution_count": null,
      "metadata": {
        "id": "KLLHMSFEcSc9"
      },
      "outputs": [],
      "source": []
    }
  ],
  "metadata": {
    "kernelspec": {
      "display_name": ".venv",
      "language": "python",
      "name": "python3"
    },
    "language_info": {
      "codemirror_mode": {
        "name": "ipython",
        "version": 3
      },
      "file_extension": ".py",
      "mimetype": "text/x-python",
      "name": "python",
      "nbconvert_exporter": "python",
      "pygments_lexer": "ipython3",
      "version": "3.9.6"
    },
    "orig_nbformat": 4,
    "colab": {
      "provenance": [],
      "toc_visible": true
    },
    "widgets": {
      "application/vnd.jupyter.widget-state+json": {
        "b7b09e77eed54055ade1167aad579ac9": {
          "model_module": "@jupyter-widgets/controls",
          "model_name": "VBoxModel",
          "model_module_version": "1.5.0",
          "state": {
            "_dom_classes": [
              "widget-interact"
            ],
            "_model_module": "@jupyter-widgets/controls",
            "_model_module_version": "1.5.0",
            "_model_name": "VBoxModel",
            "_view_count": null,
            "_view_module": "@jupyter-widgets/controls",
            "_view_module_version": "1.5.0",
            "_view_name": "VBoxView",
            "box_style": "",
            "children": [
              "IPY_MODEL_b6d2406490e349caac387d3cbf0f5bb9",
              "IPY_MODEL_14393a42bcce4436949b91595f8a05bc"
            ],
            "layout": "IPY_MODEL_86ab424313834bcca784432ce243da9b"
          }
        },
        "b6d2406490e349caac387d3cbf0f5bb9": {
          "model_module": "@jupyter-widgets/controls",
          "model_name": "FloatSliderModel",
          "model_module_version": "1.5.0",
          "state": {
            "_dom_classes": [],
            "_model_module": "@jupyter-widgets/controls",
            "_model_module_version": "1.5.0",
            "_model_name": "FloatSliderModel",
            "_view_count": null,
            "_view_module": "@jupyter-widgets/controls",
            "_view_module_version": "1.5.0",
            "_view_name": "FloatSliderView",
            "continuous_update": true,
            "description": "T",
            "description_tooltip": null,
            "disabled": false,
            "layout": "IPY_MODEL_bac32bb301fb4fafb375d47d869b2054",
            "max": 10,
            "min": 0.01,
            "orientation": "horizontal",
            "readout": true,
            "readout_format": ".2f",
            "step": 0.1,
            "style": "IPY_MODEL_8b02d01a1b314d00aaa9ed04a9874b93",
            "value": 1.41
          }
        },
        "14393a42bcce4436949b91595f8a05bc": {
          "model_module": "@jupyter-widgets/output",
          "model_name": "OutputModel",
          "model_module_version": "1.0.0",
          "state": {
            "_dom_classes": [],
            "_model_module": "@jupyter-widgets/output",
            "_model_module_version": "1.0.0",
            "_model_name": "OutputModel",
            "_view_count": null,
            "_view_module": "@jupyter-widgets/output",
            "_view_module_version": "1.0.0",
            "_view_name": "OutputView",
            "layout": "IPY_MODEL_d806ce9e1b924253ba3d72eea21c29e2",
            "msg_id": "",
            "outputs": [
              {
                "output_type": "display_data",
                "data": {
                  "text/plain": "<Figure size 1000x600 with 1 Axes>",
                  "image/png": "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\n"
                },
                "metadata": {}
              }
            ]
          }
        },
        "86ab424313834bcca784432ce243da9b": {
          "model_module": "@jupyter-widgets/base",
          "model_name": "LayoutModel",
          "model_module_version": "1.2.0",
          "state": {
            "_model_module": "@jupyter-widgets/base",
            "_model_module_version": "1.2.0",
            "_model_name": "LayoutModel",
            "_view_count": null,
            "_view_module": "@jupyter-widgets/base",
            "_view_module_version": "1.2.0",
            "_view_name": "LayoutView",
            "align_content": null,
            "align_items": null,
            "align_self": null,
            "border": null,
            "bottom": null,
            "display": null,
            "flex": null,
            "flex_flow": null,
            "grid_area": null,
            "grid_auto_columns": null,
            "grid_auto_flow": null,
            "grid_auto_rows": null,
            "grid_column": null,
            "grid_gap": null,
            "grid_row": null,
            "grid_template_areas": null,
            "grid_template_columns": null,
            "grid_template_rows": null,
            "height": null,
            "justify_content": null,
            "justify_items": null,
            "left": null,
            "margin": null,
            "max_height": null,
            "max_width": null,
            "min_height": null,
            "min_width": null,
            "object_fit": null,
            "object_position": null,
            "order": null,
            "overflow": null,
            "overflow_x": null,
            "overflow_y": null,
            "padding": null,
            "right": null,
            "top": null,
            "visibility": null,
            "width": null
          }
        },
        "bac32bb301fb4fafb375d47d869b2054": {
          "model_module": "@jupyter-widgets/base",
          "model_name": "LayoutModel",
          "model_module_version": "1.2.0",
          "state": {
            "_model_module": "@jupyter-widgets/base",
            "_model_module_version": "1.2.0",
            "_model_name": "LayoutModel",
            "_view_count": null,
            "_view_module": "@jupyter-widgets/base",
            "_view_module_version": "1.2.0",
            "_view_name": "LayoutView",
            "align_content": null,
            "align_items": null,
            "align_self": null,
            "border": null,
            "bottom": null,
            "display": null,
            "flex": null,
            "flex_flow": null,
            "grid_area": null,
            "grid_auto_columns": null,
            "grid_auto_flow": null,
            "grid_auto_rows": null,
            "grid_column": null,
            "grid_gap": null,
            "grid_row": null,
            "grid_template_areas": null,
            "grid_template_columns": null,
            "grid_template_rows": null,
            "height": null,
            "justify_content": null,
            "justify_items": null,
            "left": null,
            "margin": null,
            "max_height": null,
            "max_width": null,
            "min_height": null,
            "min_width": null,
            "object_fit": null,
            "object_position": null,
            "order": null,
            "overflow": null,
            "overflow_x": null,
            "overflow_y": null,
            "padding": null,
            "right": null,
            "top": null,
            "visibility": null,
            "width": null
          }
        },
        "8b02d01a1b314d00aaa9ed04a9874b93": {
          "model_module": "@jupyter-widgets/controls",
          "model_name": "SliderStyleModel",
          "model_module_version": "1.5.0",
          "state": {
            "_model_module": "@jupyter-widgets/controls",
            "_model_module_version": "1.5.0",
            "_model_name": "SliderStyleModel",
            "_view_count": null,
            "_view_module": "@jupyter-widgets/base",
            "_view_module_version": "1.2.0",
            "_view_name": "StyleView",
            "description_width": "",
            "handle_color": null
          }
        },
        "d806ce9e1b924253ba3d72eea21c29e2": {
          "model_module": "@jupyter-widgets/base",
          "model_name": "LayoutModel",
          "model_module_version": "1.2.0",
          "state": {
            "_model_module": "@jupyter-widgets/base",
            "_model_module_version": "1.2.0",
            "_model_name": "LayoutModel",
            "_view_count": null,
            "_view_module": "@jupyter-widgets/base",
            "_view_module_version": "1.2.0",
            "_view_name": "LayoutView",
            "align_content": null,
            "align_items": null,
            "align_self": null,
            "border": null,
            "bottom": null,
            "display": null,
            "flex": null,
            "flex_flow": null,
            "grid_area": null,
            "grid_auto_columns": null,
            "grid_auto_flow": null,
            "grid_auto_rows": null,
            "grid_column": null,
            "grid_gap": null,
            "grid_row": null,
            "grid_template_areas": null,
            "grid_template_columns": null,
            "grid_template_rows": null,
            "height": null,
            "justify_content": null,
            "justify_items": null,
            "left": null,
            "margin": null,
            "max_height": null,
            "max_width": null,
            "min_height": null,
            "min_width": null,
            "object_fit": null,
            "object_position": null,
            "order": null,
            "overflow": null,
            "overflow_x": null,
            "overflow_y": null,
            "padding": null,
            "right": null,
            "top": null,
            "visibility": null,
            "width": null
          }
        }
      }
    }
  },
  "nbformat": 4,
  "nbformat_minor": 0
}