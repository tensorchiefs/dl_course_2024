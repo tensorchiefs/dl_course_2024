{
  "cells": [
    {
      "cell_type": "markdown",
      "metadata": {
        "id": "IxDnHMLUL64a"
      },
      "source": [
        "#### Imports"
      ]
    },
    {
      "cell_type": "code",
      "execution_count": 2,
      "metadata": {
        "id": "2Ns6420jRmbQ"
      },
      "outputs": [],
      "source": [
        "import numpy as np\n",
        "import tensorflow as tf"
      ]
    },
    {
      "cell_type": "markdown",
      "source": [
        ""
      ],
      "metadata": {
        "id": "I0ojj2ARhxSM"
      }
    },
    {
      "cell_type": "code",
      "execution_count": 3,
      "metadata": {
        "id": "V164z0rB4h1K",
        "colab": {
          "base_uri": "https://localhost:8080/"
        },
        "outputId": "d2924ffb-b362-4db0-c378-4f2438cfa392"
      },
      "outputs": [
        {
          "output_type": "stream",
          "name": "stdout",
          "text": [
            "[<tf.Tensor: shape=(), dtype=float32, numpy=3.0>]\n"
          ]
        }
      ],
      "source": [
        "x = tf.Variable(-2.)\n",
        "y = tf.Variable(5.)\n",
        "z = tf.Variable(-4.)\n",
        "\n",
        "with tf.GradientTape() as tape: #We need to store\n",
        "    res = (x+y)*z\n",
        "    print(tape.gradient(res, [z]))\n"
      ]
    }
  ],
  "metadata": {
    "colab": {
      "collapsed_sections": [],
      "name": "10_a_gradient_tape.ipynb",
      "provenance": [],
      "toc_visible": true
    },
    "kernelspec": {
      "display_name": "Python 3",
      "language": "python",
      "name": "python3"
    },
    "language_info": {
      "codemirror_mode": {
        "name": "ipython",
        "version": 3
      },
      "file_extension": ".py",
      "mimetype": "text/x-python",
      "name": "python",
      "nbconvert_exporter": "python",
      "pygments_lexer": "ipython3",
      "version": "3.7.7"
    }
  },
  "nbformat": 4,
  "nbformat_minor": 0
}