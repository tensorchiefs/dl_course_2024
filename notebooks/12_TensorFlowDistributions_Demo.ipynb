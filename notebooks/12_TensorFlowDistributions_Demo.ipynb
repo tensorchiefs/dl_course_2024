{
  "nbformat": 4,
  "nbformat_minor": 0,
  "metadata": {
    "kernelspec": {
      "display_name": "Python 3",
      "language": "python",
      "name": "python3"
    },
    "language_info": {
      "codemirror_mode": {
        "name": "ipython",
        "version": 3
      },
      "file_extension": ".py",
      "mimetype": "text/x-python",
      "name": "python",
      "nbconvert_exporter": "python",
      "pygments_lexer": "ipython3",
      "version": "3.6.8"
    },
    "colab": {
      "name": "12_TensorFlowDistributions_Demo.ipynb",
      "provenance": [],
      "collapsed_sections": []
    }
  },
  "cells": [
    {
      "cell_type": "markdown",
      "metadata": {
        "id": "2QKfxtaCv31u"
      },
      "source": [
        "# Introduces the distributions in TensorFlow Probability\n",
        "\n",
        "A **very** brief introduction in distributions in TFP.\n",
        "\n",
        "* Introduction of Distributions\n",
        "* Introduction to Layers"
      ]
    },
    {
      "cell_type": "code",
      "metadata": {
        "id": "puiaIxNdv31z"
      },
      "source": [
        "try: #If running in colab \n",
        "    import google.colab\n",
        "    IN_COLAB = True \n",
        "    %tensorflow_version 2.x\n",
        "except:\n",
        "    IN_COLAB = False"
      ],
      "execution_count": 1,
      "outputs": []
    },
    {
      "cell_type": "code",
      "metadata": {
        "id": "DAe99zfmv310",
        "colab": {
          "base_uri": "https://localhost:8080/"
        },
        "outputId": "1fd4fa1e-c254-478d-935d-af7cbc9bbea4"
      },
      "source": [
        "import tensorflow as tf\n",
        "if (not tf.__version__.startswith('2')): #Checking if tf 2.0 is installed\n",
        "    print('Please install tensorflow 2.0 to run this notebook')\n",
        "print('Tensorflow version: ',tf.__version__, ' running in colab?: ', IN_COLAB)"
      ],
      "execution_count": 2,
      "outputs": [
        {
          "output_type": "stream",
          "text": [
            "Tensorflow version:  2.4.1  running in colab?:  True\n"
          ],
          "name": "stdout"
        }
      ]
    },
    {
      "cell_type": "code",
      "metadata": {
        "id": "aj62hNonv311"
      },
      "source": [
        "# If you are not running in colab or use the provided docker container, you might need to install TFP\n",
        "#!pip install tensorflow_probability==0.8.0"
      ],
      "execution_count": 3,
      "outputs": []
    },
    {
      "cell_type": "code",
      "metadata": {
        "id": "nmquyMgVv311"
      },
      "source": [
        "import numpy as np\n",
        "import matplotlib.pyplot as plt\n",
        "%matplotlib inline\n",
        "import tensorflow_probability as tfp #<------\n",
        "tfd = tfp.distributions"
      ],
      "execution_count": 4,
      "outputs": []
    },
    {
      "cell_type": "markdown",
      "metadata": {
        "id": "vIwCf9UXv311"
      },
      "source": [
        "## Distributions for categorical data\n",
        "### The Bernoulli Distribution (2-Classes)\n",
        "\n",
        "In the Bernoulli Distribution the outcome is a single value either 0 or 1 "
      ]
    },
    {
      "cell_type": "code",
      "metadata": {
        "id": "0KKJfy1xv311"
      },
      "source": [
        "dist = tfd.Bernoulli(probs=0.1)"
      ],
      "execution_count": 5,
      "outputs": []
    },
    {
      "cell_type": "code",
      "metadata": {
        "id": "WJ__R5Rnv311",
        "colab": {
          "base_uri": "https://localhost:8080/"
        },
        "outputId": "5101910d-25a6-4458-ff19-11674396f327"
      },
      "source": [
        "dist.mean(), dist.variance()"
      ],
      "execution_count": 6,
      "outputs": [
        {
          "output_type": "execute_result",
          "data": {
            "text/plain": [
              "(<tf.Tensor: shape=(), dtype=float32, numpy=0.1>,\n",
              " <tf.Tensor: shape=(), dtype=float32, numpy=0.089999996>)"
            ]
          },
          "metadata": {
            "tags": []
          },
          "execution_count": 6
        }
      ]
    },
    {
      "cell_type": "code",
      "metadata": {
        "id": "pLwIzQ2bv312",
        "colab": {
          "base_uri": "https://localhost:8080/"
        },
        "outputId": "af5e17e6-be87-41e9-fc56-48043516ead2"
      },
      "source": [
        "0.1*(1.0-0.1) #Calculation of the variance"
      ],
      "execution_count": 7,
      "outputs": [
        {
          "output_type": "execute_result",
          "data": {
            "text/plain": [
              "0.09000000000000001"
            ]
          },
          "metadata": {
            "tags": []
          },
          "execution_count": 7
        }
      ]
    },
    {
      "cell_type": "code",
      "metadata": {
        "id": "yUck4m0sv312",
        "colab": {
          "base_uri": "https://localhost:8080/"
        },
        "outputId": "810fc33a-0476-4592-9ffc-ad87cb416f33"
      },
      "source": [
        "dist.sample(55)"
      ],
      "execution_count": 8,
      "outputs": [
        {
          "output_type": "execute_result",
          "data": {
            "text/plain": [
              "<tf.Tensor: shape=(55,), dtype=int32, numpy=\n",
              "array([0, 0, 0, 0, 0, 0, 0, 0, 0, 0, 0, 0, 0, 0, 0, 0, 0, 0, 0, 0, 0, 0,\n",
              "       0, 0, 0, 0, 0, 0, 0, 0, 0, 0, 0, 0, 1, 0, 0, 0, 0, 0, 0, 0, 0, 1,\n",
              "       0, 0, 0, 0, 0, 0, 0, 0, 0, 0, 0], dtype=int32)>"
            ]
          },
          "metadata": {
            "tags": []
          },
          "execution_count": 8
        }
      ]
    },
    {
      "cell_type": "code",
      "metadata": {
        "id": "4gAVE-BBv312",
        "colab": {
          "base_uri": "https://localhost:8080/"
        },
        "outputId": "4263208d-8b50-4f9d-d575-558dd6ea0a3f"
      },
      "source": [
        "dist.prob(1.0)"
      ],
      "execution_count": 9,
      "outputs": [
        {
          "output_type": "execute_result",
          "data": {
            "text/plain": [
              "<tf.Tensor: shape=(), dtype=float32, numpy=0.099999994>"
            ]
          },
          "metadata": {
            "tags": []
          },
          "execution_count": 9
        }
      ]
    },
    {
      "cell_type": "markdown",
      "metadata": {
        "id": "2L9ujfpkv313"
      },
      "source": [
        "### The Categorical / Multinomial Distribution (more than 2 classes)\n",
        "\n",
        "In the multinomial distribution the outcome is a one-hot encoded vector."
      ]
    },
    {
      "cell_type": "code",
      "metadata": {
        "id": "wRJKI_qfv313"
      },
      "source": [
        "#dist = tfd.Multinomial(probs=(0.5, 0.3, 0.2), total_count=1)\n",
        "dist = tfd.OneHotCategorical(probs=(0.5, 0.3, 0.2))"
      ],
      "execution_count": 10,
      "outputs": []
    },
    {
      "cell_type": "code",
      "metadata": {
        "id": "pZFGPjGRv313",
        "colab": {
          "base_uri": "https://localhost:8080/"
        },
        "outputId": "35791be4-d221-4000-dc99-67e8d739b149"
      },
      "source": [
        "dist.sample(10)"
      ],
      "execution_count": 11,
      "outputs": [
        {
          "output_type": "execute_result",
          "data": {
            "text/plain": [
              "<tf.Tensor: shape=(10, 3), dtype=int32, numpy=\n",
              "array([[0, 0, 1],\n",
              "       [0, 1, 0],\n",
              "       [1, 0, 0],\n",
              "       [1, 0, 0],\n",
              "       [0, 1, 0],\n",
              "       [1, 0, 0],\n",
              "       [0, 1, 0],\n",
              "       [0, 0, 1],\n",
              "       [0, 0, 1],\n",
              "       [1, 0, 0]], dtype=int32)>"
            ]
          },
          "metadata": {
            "tags": []
          },
          "execution_count": 11
        }
      ]
    },
    {
      "cell_type": "code",
      "metadata": {
        "id": "zx29ULZIv313",
        "colab": {
          "base_uri": "https://localhost:8080/"
        },
        "outputId": "01c0b0b7-0da6-4130-c654-e3e17b208164"
      },
      "source": [
        "import numpy as np\n",
        "np.mean(dist.sample(10000).numpy(), axis=0)"
      ],
      "execution_count": 12,
      "outputs": [
        {
          "output_type": "execute_result",
          "data": {
            "text/plain": [
              "array([0.4902, 0.3036, 0.2062])"
            ]
          },
          "metadata": {
            "tags": []
          },
          "execution_count": 12
        }
      ]
    },
    {
      "cell_type": "code",
      "metadata": {
        "id": "8hYhIWuiv313",
        "colab": {
          "base_uri": "https://localhost:8080/"
        },
        "outputId": "2c253085-f20f-41fc-bb3d-1cd509ff11ee"
      },
      "source": [
        "dist.mean()"
      ],
      "execution_count": 13,
      "outputs": [
        {
          "output_type": "execute_result",
          "data": {
            "text/plain": [
              "<tf.Tensor: shape=(3,), dtype=float32, numpy=array([0.5, 0.3, 0.2], dtype=float32)>"
            ]
          },
          "metadata": {
            "tags": []
          },
          "execution_count": 13
        }
      ]
    },
    {
      "cell_type": "markdown",
      "metadata": {
        "id": "cILdwBBLv313"
      },
      "source": [
        "## Continous Data\n",
        "### The Normal distribution\n",
        "The normal distribution samples a single value from a Gaussian"
      ]
    },
    {
      "cell_type": "code",
      "metadata": {
        "id": "Tc3Tjl1bv314",
        "colab": {
          "base_uri": "https://localhost:8080/"
        },
        "outputId": "2483dfe8-71b3-4ca5-e456-28ce9b372d48"
      },
      "source": [
        "dist = tfd.Normal(loc=1,scale=2)\n",
        "dist.mean(), dist.variance()"
      ],
      "execution_count": 14,
      "outputs": [
        {
          "output_type": "execute_result",
          "data": {
            "text/plain": [
              "(<tf.Tensor: shape=(), dtype=float32, numpy=1.0>,\n",
              " <tf.Tensor: shape=(), dtype=float32, numpy=4.0>)"
            ]
          },
          "metadata": {
            "tags": []
          },
          "execution_count": 14
        }
      ]
    },
    {
      "cell_type": "code",
      "metadata": {
        "id": "JgqHK6uYv314",
        "colab": {
          "base_uri": "https://localhost:8080/"
        },
        "outputId": "452af4ce-5a29-4ab7-fd96-8611cdfaaeb3"
      },
      "source": [
        "dist.sample(10)"
      ],
      "execution_count": 15,
      "outputs": [
        {
          "output_type": "execute_result",
          "data": {
            "text/plain": [
              "<tf.Tensor: shape=(10,), dtype=float32, numpy=\n",
              "array([-1.3369699 , -2.155844  ,  0.26631767, -1.2070868 ,  0.9989343 ,\n",
              "        2.4059124 , -2.1083305 ,  2.3806727 ,  2.9147403 ,  1.6497833 ],\n",
              "      dtype=float32)>"
            ]
          },
          "metadata": {
            "tags": []
          },
          "execution_count": 15
        }
      ]
    },
    {
      "cell_type": "code",
      "metadata": {
        "id": "SYiL-vT3v314",
        "colab": {
          "base_uri": "https://localhost:8080/",
          "height": 265
        },
        "outputId": "3ba3a49a-b99f-4a2a-9e4b-1a6ac8eb6965"
      },
      "source": [
        "plt.hist(dist.sample(100000),100, density=True)\n",
        "x = np.linspace(-10,10,100)\n",
        "plt.plot(x, dist.prob(x))\n",
        "plt.show()"
      ],
      "execution_count": 16,
      "outputs": [
        {
          "output_type": "display_data",
          "data": {
            "image/png": "[encoded data removed]",
            "text/plain": [
              "<Figure size 432x288 with 1 Axes>"
            ]
          },
          "metadata": {
            "tags": [],
            "needs_background": "light"
          }
        }
      ]
    },
    {
      "cell_type": "markdown",
      "metadata": {
        "id": "o7QYPcB_v314"
      },
      "source": [
        "## Count Data\n",
        "### The Poisson"
      ]
    },
    {
      "cell_type": "code",
      "metadata": {
        "id": "WEeBiJBpv314",
        "colab": {
          "base_uri": "https://localhost:8080/",
          "height": 538
        },
        "outputId": "932b2eb1-b3e1-461b-90b3-e5a2cf3e8dc2"
      },
      "source": [
        "import matplotlib.pyplot as plt\n",
        "%matplotlib inline\n",
        "plt.style.use('default')\n",
        "\n",
        "dist = tfd.poisson.Poisson(rate = 2.3) #A\n",
        "vals = np.linspace(0,10,11) #B\n",
        "p = dist.prob(vals) #C\n",
        "print(dist.mean().numpy())  #D\n",
        "print(dist.variance().numpy())   #E\n",
        "\n",
        "plt.xticks(vals)\n",
        "plt.stem(vals, p)\n",
        "plt.xlabel('Number of Events')\n",
        "plt.ylabel('Probability')\n",
        "plt.show()\n",
        "\n",
        "#A Poisson distribution with parameter rate = 2.3\n",
        "#B Integer values from 0 to 10 for the x-axis \n",
        "#C Computes the probability for the values\n",
        "#D The mean value yielding 2.3\n",
        "#E The standard deviation yielding 2.3"
      ],
      "execution_count": 17,
      "outputs": [
        {
          "output_type": "stream",
          "text": [
            "2.3\n",
            "2.3\n"
          ],
          "name": "stdout"
        },
        {
          "output_type": "stream",
          "text": [
            "/usr/local/lib/python3.7/dist-packages/ipykernel_launcher.py:12: UserWarning: In Matplotlib 3.3 individual lines on a stem plot will be added as a LineCollection instead of individual lines. This significantly improves the performance of a stem plot. To remove this warning and switch to the new behaviour, set the \"use_line_collection\" keyword argument to True.\n",
            "  if sys.path[0] == '':\n"
          ],
          "name": "stderr"
        },
        {
          "output_type": "display_data",
          "data": {
            "image/png": "[encoded data removed]",
            "text/plain": [
              "<Figure size 640x480 with 1 Axes>"
            ]
          },
          "metadata": {
            "tags": []
          }
        }
      ]
    },
    {
      "cell_type": "markdown",
      "metadata": {
        "id": "ZXsgvTZAv315"
      },
      "source": [
        "# The Lambda Layer"
      ]
    },
    {
      "cell_type": "code",
      "metadata": {
        "id": "PoLMrQ-nv315",
        "colab": {
          "base_uri": "https://localhost:8080/"
        },
        "outputId": "765177f9-95cc-4294-c410-1933b7281f7a"
      },
      "source": [
        "from tensorflow.keras.layers import Input\n",
        "from tensorflow.keras.layers import Dense\n",
        "from tensorflow.keras.models import Model\n",
        "from tensorflow.keras.optimizers import Adam\n",
        "\n",
        "def my_dist(params): \n",
        "  return tfd.Normal(\n",
        "      loc=params[:,0:1], #First for location\n",
        "      scale=1e-3 + tf.math.softplus(0.05 * params[:,1:2])\n",
        "  )\n",
        "\n",
        "inputs = Input(shape=(1,))\n",
        "h1  = Dense(10)(inputs)\n",
        "# Here could be large network\n",
        "params = Dense(2)(h1) #We have to parameters\n",
        "dist = tfp.layers.DistributionLambda(my_dist)(params) #Connecting Network\n",
        "model = Model(inputs=inputs, outputs=dist) \n",
        "model.summary()"
      ],
      "execution_count": 18,
      "outputs": [
        {
          "output_type": "stream",
          "text": [
            "Model: \"model\"\n",
            "_________________________________________________________________\n",
            "Layer (type)                 Output Shape              Param #   \n",
            "=================================================================\n",
            "input_1 (InputLayer)         [(None, 1)]               0         \n",
            "_________________________________________________________________\n",
            "dense (Dense)                (None, 10)                20        \n",
            "_________________________________________________________________\n",
            "dense_1 (Dense)              (None, 2)                 22        \n",
            "_________________________________________________________________\n",
            "distribution_lambda (Distrib multiple                  0         \n",
            "=================================================================\n",
            "Total params: 42\n",
            "Trainable params: 42\n",
            "Non-trainable params: 0\n",
            "_________________________________________________________________\n"
          ],
          "name": "stdout"
        }
      ]
    },
    {
      "cell_type": "code",
      "metadata": {
        "id": "t8TFmZufv315"
      },
      "source": [
        "def NLL(y, distr): \n",
        "  return -distr.log_prob(y) #Just NLL, works for all distributions\n",
        "\n",
        "model.compile(Adam(), loss=NLL) #F"
      ],
      "execution_count": 21,
      "outputs": []
    },
    {
      "cell_type": "code",
      "metadata": {
        "id": "qOlJBDy3v315"
      },
      "source": [
        "model = Model(inputs=inputs, outputs=dist) \n",
        "x = np.asarray([[1],[2.3]], dtype='float32')\n",
        "x.shape\n",
        "cpd = model(x) # Returns a CPD of the x"
      ],
      "execution_count": 25,
      "outputs": []
    },
    {
      "cell_type": "code",
      "metadata": {
        "id": "SwrKP14hv315",
        "colab": {
          "base_uri": "https://localhost:8080/"
        },
        "outputId": "1ae44669-8196-42c4-80ef-5e5a07aa45bc"
      },
      "source": [
        "cpd.mean() #The expectations at the positions"
      ],
      "execution_count": 26,
      "outputs": [
        {
          "output_type": "execute_result",
          "data": {
            "text/plain": [
              "<tf.Tensor: shape=(2, 1), dtype=float32, numpy=\n",
              "array([[-0.24419746],\n",
              "       [-0.5616542 ]], dtype=float32)>"
            ]
          },
          "metadata": {
            "tags": []
          },
          "execution_count": 26
        }
      ]
    },
    {
      "cell_type": "code",
      "metadata": {
        "colab": {
          "base_uri": "https://localhost:8080/"
        },
        "id": "65Fxh298xgx4",
        "outputId": "79843ec6-5821-4100-b7da-00b85c22cd1f"
      },
      "source": [
        "cpd.stddev() #The spread at the positions"
      ],
      "execution_count": 28,
      "outputs": [
        {
          "output_type": "execute_result",
          "data": {
            "text/plain": [
              "<tf.Tensor: shape=(2, 1), dtype=float32, numpy=\n",
              "array([[0.71965677],\n",
              "       [0.75376725]], dtype=float32)>"
            ]
          },
          "metadata": {
            "tags": []
          },
          "execution_count": 28
        }
      ]
    },
    {
      "cell_type": "markdown",
      "metadata": {
        "id": "f5wexDR7v315"
      },
      "source": [
        "Training can be done the usual way by calling model.fit"
      ]
    },
    {
      "cell_type": "code",
      "metadata": {
        "id": "eQQX9OPjv316"
      },
      "source": [
        ""
      ],
      "execution_count": 20,
      "outputs": []
    }
  ]
}